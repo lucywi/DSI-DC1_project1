{
 "cells": [
  {
   "cell_type": "markdown",
   "metadata": {},
   "source": [
    "# Project 1\n",
    "\n",
    "## Step 1: Open the `sat_scores.csv` file. Investigate the data, and answer the questions below.\n"
   ]
  },
  {
   "cell_type": "markdown",
   "metadata": {},
   "source": [
    "##### 1. What does the data describe?"
   ]
  },
  {
   "cell_type": "markdown",
   "metadata": {},
   "source": [
    "The data describe the average verbal and math SAT score by state (including the District of Columbia) and the percentage of students that take the test. There is also an \"All\" item that appears to summarize all of the other items."
   ]
  },
  {
   "cell_type": "markdown",
   "metadata": {},
   "source": [
    "##### 2. Does the data look complete? Are there any obvious issues with the observations?"
   ]
  },
  {
   "cell_type": "markdown",
   "metadata": {},
   "source": [
    "The data look complete. The state abbreviation for Nebraska is incorrect and is updated in the code below."
   ]
  },
  {
   "cell_type": "markdown",
   "metadata": {},
   "source": [
    "##### 3. Create a data dictionary for the dataset."
   ]
  },
  {
   "cell_type": "markdown",
   "metadata": {
    "collapsed": true
   },
   "source": [
    "State: (text) The two letter abbreviation of the referenced state. \"All\" is a composite value for all states. \n",
    "Rate: (int) The participation rate of students in the state. \n",
    "Verbal: (int) The mean verbal score students attained on the test. \n",
    "Math: (int) The mean math score students attained on the test."
   ]
  },
  {
   "cell_type": "markdown",
   "metadata": {},
   "source": [
    "## Step 2: Load the data."
   ]
  },
  {
   "cell_type": "markdown",
   "metadata": {},
   "source": [
    "##### 4. Load the data into a list of lists"
   ]
  },
  {
   "cell_type": "code",
   "execution_count": 71,
   "metadata": {
    "collapsed": false
   },
   "outputs": [],
   "source": [
    "#With Lucy's permission, I am using pandas instead. However, I have added another cell below each pandas one \n",
    "#to show how to with csv.\n",
    "\n",
    "#Use pandas to read the data as a dataframe.\n",
    "import pandas as pd\n",
    "\n",
    "#import os\n",
    "#print os.getcwd()\n",
    "\n",
    "df = pd.read_csv('assets/sat_scores.csv')"
   ]
  },
  {
   "cell_type": "code",
   "execution_count": 72,
   "metadata": {
    "collapsed": false
   },
   "outputs": [],
   "source": [
    "#read the csv as a list of lists\n",
    "\n",
    "import csv\n",
    "\n",
    "csvfile = open('assets/sat_scores.csv', 'rb')\n",
    "reader =csv.reader(csvfile)\n",
    "\n",
    "csv_list=[]\n",
    "for row in reader:\n",
    "    csv_list.append(row)"
   ]
  },
  {
   "cell_type": "markdown",
   "metadata": {},
   "source": [
    "##### 5. Print the data"
   ]
  },
  {
   "cell_type": "code",
   "execution_count": 73,
   "metadata": {
    "collapsed": false
   },
   "outputs": [
    {
     "name": "stdout",
     "output_type": "stream",
     "text": [
      "Pandas version \n",
      "\n",
      "   State  Rate  Verbal  Math\n",
      "0     CT    82     509   510\n",
      "1     NJ    81     499   513\n",
      "2     MA    79     511   515\n",
      "3     NY    77     495   505\n",
      "4     NH    72     520   516\n",
      "5     RI    71     501   499\n",
      "6     PA    71     500   499\n",
      "7     VT    69     511   506\n",
      "8     ME    69     506   500\n",
      "9     VA    68     510   501\n",
      "10    DE    67     501   499\n",
      "11    MD    65     508   510\n",
      "12    NC    65     493   499\n",
      "13    GA    63     491   489\n",
      "14    IN    60     499   501\n",
      "15    SC    57     486   488\n",
      "16    DC    56     482   474\n",
      "17    OR    55     526   526\n",
      "18    FL    54     498   499\n",
      "19    WA    53     527   527\n",
      "20    TX    53     493   499\n",
      "21    HI    52     485   515\n",
      "22    AK    51     514   510\n",
      "23    CA    51     498   517\n",
      "24    AZ    34     523   525\n",
      "25    NV    33     509   515\n",
      "26    CO    31     539   542\n",
      "27    OH    26     534   439\n",
      "28    MT    23     539   539\n",
      "29    WV    18     527   512\n",
      "30    ID    17     543   542\n",
      "31    TN    13     562   553\n",
      "32    NM    13     551   542\n",
      "33    IL    12     576   589\n",
      "34    KY    12     550   550\n",
      "35    WY    11     547   545\n",
      "36    MI    11     561   572\n",
      "37    MN     9     580   589\n",
      "38    KS     9     577   580\n",
      "39    AL     9     559   554\n",
      "40    NB     8     562   568\n",
      "41    OK     8     567   561\n",
      "42    MO     8     577   577\n",
      "43    LA     7     564   562\n",
      "44    WI     6     584   596\n",
      "45    AR     6     562   550\n",
      "46    UT     5     575   570\n",
      "47    IA     5     593   603\n",
      "48    SD     4     577   582\n",
      "49    ND     4     592   599\n",
      "50    MS     4     566   551\n"
     ]
    }
   ],
   "source": [
    "#pandas\n",
    "print \"Pandas version \\n\"\n",
    "print df"
   ]
  },
  {
   "cell_type": "code",
   "execution_count": 74,
   "metadata": {
    "collapsed": false
   },
   "outputs": [
    {
     "name": "stdout",
     "output_type": "stream",
     "text": [
      "[['State', 'Rate', 'Verbal', 'Math'], ['CT', '82', '509', '510'], ['NJ', '81', '499', '513'], ['MA', '79', '511', '515'], ['NY', '77', '495', '505'], ['NH', '72', '520', '516'], ['RI', '71', '501', '499'], ['PA', '71', '500', '499'], ['VT', '69', '511', '506'], ['ME', '69', '506', '500'], ['VA', '68', '510', '501'], ['DE', '67', '501', '499'], ['MD', '65', '508', '510'], ['NC', '65', '493', '499'], ['GA', '63', '491', '489'], ['IN', '60', '499', '501'], ['SC', '57', '486', '488'], ['DC', '56', '482', '474'], ['OR', '55', '526', '526'], ['FL', '54', '498', '499'], ['WA', '53', '527', '527'], ['TX', '53', '493', '499'], ['HI', '52', '485', '515'], ['AK', '51', '514', '510'], ['CA', '51', '498', '517'], ['AZ', '34', '523', '525'], ['NV', '33', '509', '515'], ['CO', '31', '539', '542'], ['OH', '26', '534', '439'], ['MT', '23', '539', '539'], ['WV', '18', '527', '512'], ['ID', '17', '543', '542'], ['TN', '13', '562', '553'], ['NM', '13', '551', '542'], ['IL', '12', '576', '589'], ['KY', '12', '550', '550'], ['WY', '11', '547', '545'], ['MI', '11', '561', '572'], ['MN', '9', '580', '589'], ['KS', '9', '577', '580'], ['AL', '9', '559', '554'], ['NB', '8', '562', '568'], ['OK', '8', '567', '561'], ['MO', '8', '577', '577'], ['LA', '7', '564', '562'], ['WI', '6', '584', '596'], ['AR', '6', '562', '550'], ['UT', '5', '575', '570'], ['IA', '5', '593', '603'], ['SD', '4', '577', '582'], ['ND', '4', '592', '599'], ['MS', '4', '566', '551']]\n"
     ]
    }
   ],
   "source": [
    "#without pandas\n",
    "print [my_item for my_item in csv_list]"
   ]
  },
  {
   "cell_type": "markdown",
   "metadata": {
    "collapsed": true
   },
   "source": [
    "##### 6. Extract a list of the labels from the data, and remove them from the data."
   ]
  },
  {
   "cell_type": "code",
   "execution_count": 75,
   "metadata": {
    "collapsed": false
   },
   "outputs": [
    {
     "name": "stdout",
     "output_type": "stream",
     "text": [
      "<type 'list'>\n",
      "['State', 'Rate', 'Verbal', 'Math']\n"
     ]
    }
   ],
   "source": [
    "#create a variable with the column labels as a list. Since I am using pandas, the column labels\n",
    "#are treated as a header and do not need to be deleted.\n",
    "\n",
    "labels =  df.columns.tolist()\n",
    "\n",
    "print type(labels)\n",
    "print labels"
   ]
  },
  {
   "cell_type": "code",
   "execution_count": 76,
   "metadata": {
    "collapsed": false
   },
   "outputs": [
    {
     "name": "stdout",
     "output_type": "stream",
     "text": [
      "['State', 'Rate', 'Verbal', 'Math']\n",
      "[['CT', '82', '509', '510'], ['NJ', '81', '499', '513'], ['MA', '79', '511', '515'], ['NY', '77', '495', '505'], ['NH', '72', '520', '516'], ['RI', '71', '501', '499'], ['PA', '71', '500', '499'], ['VT', '69', '511', '506'], ['ME', '69', '506', '500'], ['VA', '68', '510', '501'], ['DE', '67', '501', '499'], ['MD', '65', '508', '510'], ['NC', '65', '493', '499'], ['GA', '63', '491', '489'], ['IN', '60', '499', '501'], ['SC', '57', '486', '488'], ['DC', '56', '482', '474'], ['OR', '55', '526', '526'], ['FL', '54', '498', '499'], ['WA', '53', '527', '527'], ['TX', '53', '493', '499'], ['HI', '52', '485', '515'], ['AK', '51', '514', '510'], ['CA', '51', '498', '517'], ['AZ', '34', '523', '525'], ['NV', '33', '509', '515'], ['CO', '31', '539', '542'], ['OH', '26', '534', '439'], ['MT', '23', '539', '539'], ['WV', '18', '527', '512'], ['ID', '17', '543', '542'], ['TN', '13', '562', '553'], ['NM', '13', '551', '542'], ['IL', '12', '576', '589'], ['KY', '12', '550', '550'], ['WY', '11', '547', '545'], ['MI', '11', '561', '572'], ['MN', '9', '580', '589'], ['KS', '9', '577', '580'], ['AL', '9', '559', '554'], ['NB', '8', '562', '568'], ['OK', '8', '567', '561'], ['MO', '8', '577', '577'], ['LA', '7', '564', '562'], ['WI', '6', '584', '596'], ['AR', '6', '562', '550'], ['UT', '5', '575', '570'], ['IA', '5', '593', '603'], ['SD', '4', '577', '582'], ['ND', '4', '592', '599'], ['MS', '4', '566', '551']]\n"
     ]
    }
   ],
   "source": [
    "#wihtout pandas\n",
    "labels =csv_list.pop(0)\n",
    "print labels\n",
    "print csv_list"
   ]
  },
  {
   "cell_type": "markdown",
   "metadata": {},
   "source": [
    "##### 7. Create a list of State names extracted from the data. (Hint: use the list of labels to index on the State column)"
   ]
  },
  {
   "cell_type": "code",
   "execution_count": 77,
   "metadata": {
    "collapsed": false
   },
   "outputs": [
    {
     "name": "stdout",
     "output_type": "stream",
     "text": [
      "<type 'list'>\n",
      "['CT', 'NJ', 'MA', 'NY', 'NH', 'RI', 'PA', 'VT', 'ME', 'VA', 'DE', 'MD', 'NC', 'GA', 'IN', 'SC', 'DC', 'OR', 'FL', 'WA', 'TX', 'HI', 'AK', 'CA', 'AZ', 'NV', 'CO', 'OH', 'MT', 'WV', 'ID', 'TN', 'NM', 'IL', 'KY', 'WY', 'MI', 'MN', 'KS', 'AL', 'NB', 'OK', 'MO', 'LA', 'WI', 'AR', 'UT', 'IA', 'SD', 'ND', 'MS']\n"
     ]
    }
   ],
   "source": [
    "#first update the abbreviation for Nebraska. change from NB to NE\n",
    "states = df.ix[:,'State'].tolist()\n",
    "\n",
    "print type(states)\n",
    "print states"
   ]
  },
  {
   "cell_type": "code",
   "execution_count": 78,
   "metadata": {
    "collapsed": false
   },
   "outputs": [
    {
     "name": "stdout",
     "output_type": "stream",
     "text": [
      "['CT', 'NJ', 'MA', 'NY', 'NH', 'RI', 'PA', 'VT', 'ME', 'VA', 'DE', 'MD', 'NC', 'GA', 'IN', 'SC', 'DC', 'OR', 'FL', 'WA', 'TX', 'HI', 'AK', 'CA', 'AZ', 'NV', 'CO', 'OH', 'MT', 'WV', 'ID', 'TN', 'NM', 'IL', 'KY', 'WY', 'MI', 'MN', 'KS', 'AL', 'NE', 'OK', 'MO', 'LA', 'WI', 'AR', 'UT', 'IA', 'SD', 'ND', 'MS']\n"
     ]
    }
   ],
   "source": [
    "#without pandas\n",
    "#first update the abbreviation for Nebraska. change from NB to NE\n",
    "for i in range(len(csv_list)):\n",
    "    if csv_list[i][0] == \"NB\":\n",
    "        csv_list[i][0] = \"NE\"\n",
    "        \n",
    "loc = labels.index('State')\n",
    "state_list = []\n",
    "for i in range(len(csv_list)):\n",
    "    state_list.append(csv_list[i][loc])\n",
    "print state_list"
   ]
  },
  {
   "cell_type": "markdown",
   "metadata": {},
   "source": [
    "##### 8. Print the types of each column"
   ]
  },
  {
   "cell_type": "code",
   "execution_count": 79,
   "metadata": {
    "collapsed": false
   },
   "outputs": [
    {
     "name": "stdout",
     "output_type": "stream",
     "text": [
      "State     object\n",
      "Rate       int64\n",
      "Verbal     int64\n",
      "Math       int64\n",
      "dtype: object\n"
     ]
    }
   ],
   "source": [
    "print df.dtypes"
   ]
  },
  {
   "cell_type": "code",
   "execution_count": 81,
   "metadata": {
    "collapsed": false
   },
   "outputs": [
    {
     "name": "stdout",
     "output_type": "stream",
     "text": [
      "CT 82 509 510\n",
      "<type 'str'> <type 'str'> <type 'str'> <type 'str'>\n",
      "NJ 81 499 513\n",
      "<type 'str'> <type 'str'> <type 'str'> <type 'str'>\n",
      "MA 79 511 515\n",
      "<type 'str'> <type 'str'> <type 'str'> <type 'str'>\n",
      "NY 77 495 505\n",
      "<type 'str'> <type 'str'> <type 'str'> <type 'str'>\n",
      "NH 72 520 516\n",
      "<type 'str'> <type 'str'> <type 'str'> <type 'str'>\n",
      "RI 71 501 499\n",
      "<type 'str'> <type 'str'> <type 'str'> <type 'str'>\n",
      "PA 71 500 499\n",
      "<type 'str'> <type 'str'> <type 'str'> <type 'str'>\n",
      "VT 69 511 506\n",
      "<type 'str'> <type 'str'> <type 'str'> <type 'str'>\n",
      "ME 69 506 500\n",
      "<type 'str'> <type 'str'> <type 'str'> <type 'str'>\n",
      "VA 68 510 501\n",
      "<type 'str'> <type 'str'> <type 'str'> <type 'str'>\n",
      "DE 67 501 499\n",
      "<type 'str'> <type 'str'> <type 'str'> <type 'str'>\n",
      "MD 65 508 510\n",
      "<type 'str'> <type 'str'> <type 'str'> <type 'str'>\n",
      "NC 65 493 499\n",
      "<type 'str'> <type 'str'> <type 'str'> <type 'str'>\n",
      "GA 63 491 489\n",
      "<type 'str'> <type 'str'> <type 'str'> <type 'str'>\n",
      "IN 60 499 501\n",
      "<type 'str'> <type 'str'> <type 'str'> <type 'str'>\n",
      "SC 57 486 488\n",
      "<type 'str'> <type 'str'> <type 'str'> <type 'str'>\n",
      "DC 56 482 474\n",
      "<type 'str'> <type 'str'> <type 'str'> <type 'str'>\n",
      "OR 55 526 526\n",
      "<type 'str'> <type 'str'> <type 'str'> <type 'str'>\n",
      "FL 54 498 499\n",
      "<type 'str'> <type 'str'> <type 'str'> <type 'str'>\n",
      "WA 53 527 527\n",
      "<type 'str'> <type 'str'> <type 'str'> <type 'str'>\n",
      "TX 53 493 499\n",
      "<type 'str'> <type 'str'> <type 'str'> <type 'str'>\n",
      "HI 52 485 515\n",
      "<type 'str'> <type 'str'> <type 'str'> <type 'str'>\n",
      "AK 51 514 510\n",
      "<type 'str'> <type 'str'> <type 'str'> <type 'str'>\n",
      "CA 51 498 517\n",
      "<type 'str'> <type 'str'> <type 'str'> <type 'str'>\n",
      "AZ 34 523 525\n",
      "<type 'str'> <type 'str'> <type 'str'> <type 'str'>\n",
      "NV 33 509 515\n",
      "<type 'str'> <type 'str'> <type 'str'> <type 'str'>\n",
      "CO 31 539 542\n",
      "<type 'str'> <type 'str'> <type 'str'> <type 'str'>\n",
      "OH 26 534 439\n",
      "<type 'str'> <type 'str'> <type 'str'> <type 'str'>\n",
      "MT 23 539 539\n",
      "<type 'str'> <type 'str'> <type 'str'> <type 'str'>\n",
      "WV 18 527 512\n",
      "<type 'str'> <type 'str'> <type 'str'> <type 'str'>\n",
      "ID 17 543 542\n",
      "<type 'str'> <type 'str'> <type 'str'> <type 'str'>\n",
      "TN 13 562 553\n",
      "<type 'str'> <type 'str'> <type 'str'> <type 'str'>\n",
      "NM 13 551 542\n",
      "<type 'str'> <type 'str'> <type 'str'> <type 'str'>\n",
      "IL 12 576 589\n",
      "<type 'str'> <type 'str'> <type 'str'> <type 'str'>\n",
      "KY 12 550 550\n",
      "<type 'str'> <type 'str'> <type 'str'> <type 'str'>\n",
      "WY 11 547 545\n",
      "<type 'str'> <type 'str'> <type 'str'> <type 'str'>\n",
      "MI 11 561 572\n",
      "<type 'str'> <type 'str'> <type 'str'> <type 'str'>\n",
      "MN 9 580 589\n",
      "<type 'str'> <type 'str'> <type 'str'> <type 'str'>\n",
      "KS 9 577 580\n",
      "<type 'str'> <type 'str'> <type 'str'> <type 'str'>\n",
      "AL 9 559 554\n",
      "<type 'str'> <type 'str'> <type 'str'> <type 'str'>\n",
      "NE 8 562 568\n",
      "<type 'str'> <type 'str'> <type 'str'> <type 'str'>\n",
      "OK 8 567 561\n",
      "<type 'str'> <type 'str'> <type 'str'> <type 'str'>\n",
      "MO 8 577 577\n",
      "<type 'str'> <type 'str'> <type 'str'> <type 'str'>\n",
      "LA 7 564 562\n",
      "<type 'str'> <type 'str'> <type 'str'> <type 'str'>\n",
      "WI 6 584 596\n",
      "<type 'str'> <type 'str'> <type 'str'> <type 'str'>\n",
      "AR 6 562 550\n",
      "<type 'str'> <type 'str'> <type 'str'> <type 'str'>\n",
      "UT 5 575 570\n",
      "<type 'str'> <type 'str'> <type 'str'> <type 'str'>\n",
      "IA 5 593 603\n",
      "<type 'str'> <type 'str'> <type 'str'> <type 'str'>\n",
      "SD 4 577 582\n",
      "<type 'str'> <type 'str'> <type 'str'> <type 'str'>\n",
      "ND 4 592 599\n",
      "<type 'str'> <type 'str'> <type 'str'> <type 'str'>\n",
      "MS 4 566 551\n",
      "<type 'str'> <type 'str'> <type 'str'> <type 'str'>\n"
     ]
    }
   ],
   "source": [
    "#without pandas, everything is treated as a string. Every element in every list will be a string.\n",
    "for i in range(len(csv_list)):\n",
    "    print csv_list[i][0], csv_list[i][1], csv_list[i][2], csv_list[i][3]\n",
    "    print type(csv_list[i][0]), type(csv_list[i][1]), type(csv_list[i][2]), type(csv_list[i][3])"
   ]
  },
  {
   "cell_type": "markdown",
   "metadata": {},
   "source": [
    "##### 9. Do any types need to be reassigned? If so, go ahead and do it."
   ]
  },
  {
   "cell_type": "markdown",
   "metadata": {
    "collapsed": false
   },
   "source": [
    "No, not when using pandas. It has correctly interpreted the types. Just another reason to use pandas :-)\n",
    "In the list of lists, rate, verbal and math need to be changed to int when not using pandas."
   ]
  },
  {
   "cell_type": "code",
   "execution_count": 83,
   "metadata": {
    "collapsed": false
   },
   "outputs": [
    {
     "name": "stdout",
     "output_type": "stream",
     "text": [
      "CT 82 509 510\n",
      "<type 'str'> <type 'int'> <type 'int'> <type 'int'>\n",
      "NJ 81 499 513\n",
      "<type 'str'> <type 'int'> <type 'int'> <type 'int'>\n",
      "MA 79 511 515\n",
      "<type 'str'> <type 'int'> <type 'int'> <type 'int'>\n",
      "NY 77 495 505\n",
      "<type 'str'> <type 'int'> <type 'int'> <type 'int'>\n",
      "NH 72 520 516\n",
      "<type 'str'> <type 'int'> <type 'int'> <type 'int'>\n",
      "RI 71 501 499\n",
      "<type 'str'> <type 'int'> <type 'int'> <type 'int'>\n",
      "PA 71 500 499\n",
      "<type 'str'> <type 'int'> <type 'int'> <type 'int'>\n",
      "VT 69 511 506\n",
      "<type 'str'> <type 'int'> <type 'int'> <type 'int'>\n",
      "ME 69 506 500\n",
      "<type 'str'> <type 'int'> <type 'int'> <type 'int'>\n",
      "VA 68 510 501\n",
      "<type 'str'> <type 'int'> <type 'int'> <type 'int'>\n",
      "DE 67 501 499\n",
      "<type 'str'> <type 'int'> <type 'int'> <type 'int'>\n",
      "MD 65 508 510\n",
      "<type 'str'> <type 'int'> <type 'int'> <type 'int'>\n",
      "NC 65 493 499\n",
      "<type 'str'> <type 'int'> <type 'int'> <type 'int'>\n",
      "GA 63 491 489\n",
      "<type 'str'> <type 'int'> <type 'int'> <type 'int'>\n",
      "IN 60 499 501\n",
      "<type 'str'> <type 'int'> <type 'int'> <type 'int'>\n",
      "SC 57 486 488\n",
      "<type 'str'> <type 'int'> <type 'int'> <type 'int'>\n",
      "DC 56 482 474\n",
      "<type 'str'> <type 'int'> <type 'int'> <type 'int'>\n",
      "OR 55 526 526\n",
      "<type 'str'> <type 'int'> <type 'int'> <type 'int'>\n",
      "FL 54 498 499\n",
      "<type 'str'> <type 'int'> <type 'int'> <type 'int'>\n",
      "WA 53 527 527\n",
      "<type 'str'> <type 'int'> <type 'int'> <type 'int'>\n",
      "TX 53 493 499\n",
      "<type 'str'> <type 'int'> <type 'int'> <type 'int'>\n",
      "HI 52 485 515\n",
      "<type 'str'> <type 'int'> <type 'int'> <type 'int'>\n",
      "AK 51 514 510\n",
      "<type 'str'> <type 'int'> <type 'int'> <type 'int'>\n",
      "CA 51 498 517\n",
      "<type 'str'> <type 'int'> <type 'int'> <type 'int'>\n",
      "AZ 34 523 525\n",
      "<type 'str'> <type 'int'> <type 'int'> <type 'int'>\n",
      "NV 33 509 515\n",
      "<type 'str'> <type 'int'> <type 'int'> <type 'int'>\n",
      "CO 31 539 542\n",
      "<type 'str'> <type 'int'> <type 'int'> <type 'int'>\n",
      "OH 26 534 439\n",
      "<type 'str'> <type 'int'> <type 'int'> <type 'int'>\n",
      "MT 23 539 539\n",
      "<type 'str'> <type 'int'> <type 'int'> <type 'int'>\n",
      "WV 18 527 512\n",
      "<type 'str'> <type 'int'> <type 'int'> <type 'int'>\n",
      "ID 17 543 542\n",
      "<type 'str'> <type 'int'> <type 'int'> <type 'int'>\n",
      "TN 13 562 553\n",
      "<type 'str'> <type 'int'> <type 'int'> <type 'int'>\n",
      "NM 13 551 542\n",
      "<type 'str'> <type 'int'> <type 'int'> <type 'int'>\n",
      "IL 12 576 589\n",
      "<type 'str'> <type 'int'> <type 'int'> <type 'int'>\n",
      "KY 12 550 550\n",
      "<type 'str'> <type 'int'> <type 'int'> <type 'int'>\n",
      "WY 11 547 545\n",
      "<type 'str'> <type 'int'> <type 'int'> <type 'int'>\n",
      "MI 11 561 572\n",
      "<type 'str'> <type 'int'> <type 'int'> <type 'int'>\n",
      "MN 9 580 589\n",
      "<type 'str'> <type 'int'> <type 'int'> <type 'int'>\n",
      "KS 9 577 580\n",
      "<type 'str'> <type 'int'> <type 'int'> <type 'int'>\n",
      "AL 9 559 554\n",
      "<type 'str'> <type 'int'> <type 'int'> <type 'int'>\n",
      "NE 8 562 568\n",
      "<type 'str'> <type 'int'> <type 'int'> <type 'int'>\n",
      "OK 8 567 561\n",
      "<type 'str'> <type 'int'> <type 'int'> <type 'int'>\n",
      "MO 8 577 577\n",
      "<type 'str'> <type 'int'> <type 'int'> <type 'int'>\n",
      "LA 7 564 562\n",
      "<type 'str'> <type 'int'> <type 'int'> <type 'int'>\n",
      "WI 6 584 596\n",
      "<type 'str'> <type 'int'> <type 'int'> <type 'int'>\n",
      "AR 6 562 550\n",
      "<type 'str'> <type 'int'> <type 'int'> <type 'int'>\n",
      "UT 5 575 570\n",
      "<type 'str'> <type 'int'> <type 'int'> <type 'int'>\n",
      "IA 5 593 603\n",
      "<type 'str'> <type 'int'> <type 'int'> <type 'int'>\n",
      "SD 4 577 582\n",
      "<type 'str'> <type 'int'> <type 'int'> <type 'int'>\n",
      "ND 4 592 599\n",
      "<type 'str'> <type 'int'> <type 'int'> <type 'int'>\n",
      "MS 4 566 551\n",
      "<type 'str'> <type 'int'> <type 'int'> <type 'int'>\n"
     ]
    }
   ],
   "source": [
    "#without pandas\n",
    "for i in range(len(csv_list)):\n",
    "    csv_list[i][1] = int(csv_list[i][1])\n",
    "    csv_list[i][2] = int(csv_list[i][2])\n",
    "    csv_list[i][3] = int(csv_list[i][3])\n",
    "    \n",
    "for i in range(len(csv_list)):\n",
    "    print csv_list[i][0], csv_list[i][1], csv_list[i][2], csv_list[i][3]\n",
    "    print type(csv_list[i][0]), type(csv_list[i][1]), type(csv_list[i][2]), type(csv_list[i][3])"
   ]
  },
  {
   "cell_type": "markdown",
   "metadata": {},
   "source": [
    "##### 10. Create a dictionary for each column mapping the State to its respective value for that column. "
   ]
  },
  {
   "cell_type": "code",
   "execution_count": 16,
   "metadata": {
    "collapsed": false
   },
   "outputs": [
    {
     "name": "stdout",
     "output_type": "stream",
     "text": [
      "{'WA': [53, 527, 527], 'DE': [67, 501, 499], 'DC': [56, 482, 474], 'WI': [6, 584, 596], 'WV': [18, 527, 512], 'HI': [52, 485, 515], 'FL': [54, 498, 499], 'WY': [11, 547, 545], 'NH': [72, 520, 516], 'NJ': [81, 499, 513], 'NM': [13, 551, 542], 'TX': [53, 493, 499], 'LA': [7, 564, 562], 'NB': [8, 562, 568], 'NC': [65, 493, 499], 'ND': [4, 592, 599], 'TN': [13, 562, 553], 'NY': [77, 495, 505], 'PA': [71, 500, 499], 'RI': [71, 501, 499], 'NV': [33, 509, 515], 'VA': [68, 510, 501], 'CO': [31, 539, 542], 'AK': [51, 514, 510], 'AL': [9, 559, 554], 'AR': [6, 562, 550], 'VT': [69, 511, 506], 'IL': [12, 576, 589], 'GA': [63, 491, 489], 'IN': [60, 499, 501], 'IA': [5, 593, 603], 'OK': [8, 567, 561], 'AZ': [34, 523, 525], 'CA': [51, 498, 517], 'ID': [17, 543, 542], 'CT': [82, 509, 510], 'ME': [69, 506, 500], 'MD': [65, 508, 510], 'MA': [79, 511, 515], 'OH': [26, 534, 439], 'UT': [5, 575, 570], 'MO': [8, 577, 577], 'MN': [9, 580, 589], 'MI': [11, 561, 572], 'KS': [9, 577, 580], 'MT': [23, 539, 539], 'MS': [4, 566, 551], 'SC': [57, 486, 488], 'KY': [12, 550, 550], 'OR': [55, 526, 526], 'SD': [4, 577, 582]}\n"
     ]
    }
   ],
   "source": [
    "#pandas\n",
    "my_dict = df.set_index('State').T.to_dict('list')\n",
    "print my_dict"
   ]
  },
  {
   "cell_type": "code",
   "execution_count": 86,
   "metadata": {
    "collapsed": false
   },
   "outputs": [
    {
     "name": "stdout",
     "output_type": "stream",
     "text": [
      "{'WA': [53, 527, 527], 'DE': [67, 501, 499], 'DC': [56, 482, 474], 'WI': [6, 584, 596], 'WV': [18, 527, 512], 'HI': [52, 485, 515], 'FL': [54, 498, 499], 'WY': [11, 547, 545], 'NH': [72, 520, 516], 'NJ': [81, 499, 513], 'NM': [13, 551, 542], 'TX': [53, 493, 499], 'LA': [7, 564, 562], 'NC': [65, 493, 499], 'ND': [4, 592, 599], 'NE': [8, 562, 568], 'TN': [13, 562, 553], 'NY': [77, 495, 505], 'PA': [71, 500, 499], 'RI': [71, 501, 499], 'NV': [33, 509, 515], 'VA': [68, 510, 501], 'CO': [31, 539, 542], 'AK': [51, 514, 510], 'AL': [9, 559, 554], 'AR': [6, 562, 550], 'VT': [69, 511, 506], 'IL': [12, 576, 589], 'GA': [63, 491, 489], 'IN': [60, 499, 501], 'IA': [5, 593, 603], 'OK': [8, 567, 561], 'AZ': [34, 523, 525], 'CA': [51, 498, 517], 'ID': [17, 543, 542], 'CT': [82, 509, 510], 'ME': [69, 506, 500], 'MD': [65, 508, 510], 'MA': [79, 511, 515], 'OH': [26, 534, 439], 'UT': [5, 575, 570], 'MO': [8, 577, 577], 'MN': [9, 580, 589], 'MI': [11, 561, 572], 'KS': [9, 577, 580], 'MT': [23, 539, 539], 'MS': [4, 566, 551], 'SC': [57, 486, 488], 'KY': [12, 550, 550], 'OR': [55, 526, 526], 'SD': [4, 577, 582]}\n"
     ]
    }
   ],
   "source": [
    "#without pandas\n",
    "sat_dict = {item[0]:item[1:] for item in csv_list}\n",
    "print sat_dict"
   ]
  },
  {
   "cell_type": "markdown",
   "metadata": {},
   "source": [
    "## Step 3: Describe the data"
   ]
  },
  {
   "cell_type": "markdown",
   "metadata": {},
   "source": [
    "##### 12. Print the min and max of each column"
   ]
  },
  {
   "cell_type": "code",
   "execution_count": 17,
   "metadata": {
    "collapsed": false
   },
   "outputs": [
    {
     "name": "stdout",
     "output_type": "stream",
     "text": [
      "State      AK\n",
      "Rate        4\n",
      "Verbal    482\n",
      "Math      439\n",
      "dtype: object\n",
      "\n",
      "\n",
      "State      WY\n",
      "Rate       82\n",
      "Verbal    593\n",
      "Math      603\n",
      "dtype: object\n"
     ]
    }
   ],
   "source": [
    "#pandas\n",
    "print df.min()\n",
    "print '\\n'\n",
    "print df.max()"
   ]
  },
  {
   "cell_type": "code",
   "execution_count": 96,
   "metadata": {
    "collapsed": false
   },
   "outputs": [
    {
     "name": "stdout",
     "output_type": "stream",
     "text": [
      "Rate min:  4\n",
      "Rate max:  82\n",
      "Verbal min:  482\n",
      "Verbal max:  593\n",
      "Math min:  439\n",
      "Math max:  603\n"
     ]
    }
   ],
   "source": [
    "#without pandas\n",
    "vals = sat_dict.values()\n",
    "print \"Rate min: \", min([item[0] for item in vals])\n",
    "print \"Rate max: \", max([item[0] for item in vals])\n",
    "print \"Verbal min: \", min([item[1] for item in vals])\n",
    "print \"Verbal max: \", max([item[1] for item in vals])\n",
    "print \"Math min: \", min([item[2] for item in vals])\n",
    "print \"Math max: \", max([item[2] for item in vals])"
   ]
  },
  {
   "cell_type": "markdown",
   "metadata": {},
   "source": [
    "##### 13. Write a function using only list comprehensions, no loops, to compute Standard Deviation. Print the Standard Deviation of each numeric column."
   ]
  },
  {
   "cell_type": "code",
   "execution_count": 97,
   "metadata": {
    "collapsed": false
   },
   "outputs": [
    {
     "name": "stdout",
     "output_type": "stream",
     "text": [
      "Rate      27.550681\n",
      "Verbal    33.360667\n",
      "Math      36.287393\n",
      "dtype: float64\n"
     ]
    }
   ],
   "source": [
    "#pandas includes a standard deviation function\n",
    "print df.std()"
   ]
  },
  {
   "cell_type": "code",
   "execution_count": 109,
   "metadata": {
    "collapsed": false
   },
   "outputs": [
    {
     "name": "stdout",
     "output_type": "stream",
     "text": [
      "Rate standard deviation:  27.2792386761\n",
      "Verbal standard deviation:  33.0319826842\n",
      "Math standard deviation:  35.9298731731\n"
     ]
    }
   ],
   "source": [
    "#without pandas\n",
    "#I am not sure why the pandas standard deviation is different. I suspect it might be related to rounding.\n",
    "def my_sd(x):\n",
    "    m = float(sum(x)) / float(len(x))\n",
    "    y = ([float((z-m)**2) for z in x])\n",
    "    vnc = float(sum(y)) / float(len(y))\n",
    "    return float(vnc**.5)\n",
    "\n",
    "print \"Rate standard deviation: \", my_sd([item[0] for item in vals])\n",
    "print \"Verbal standard deviation: \", my_sd([item[1] for item in vals])\n",
    "print \"Math standard deviation: \", my_sd([item[2] for item in vals])"
   ]
  },
  {
   "cell_type": "markdown",
   "metadata": {},
   "source": [
    "## Step 4: Visualize the data"
   ]
  },
  {
   "cell_type": "markdown",
   "metadata": {
    "collapsed": true
   },
   "source": [
    "##### 14. Using MatPlotLib and PyPlot, plot the distribution of the Rate using histograms."
   ]
  },
  {
   "cell_type": "code",
   "execution_count": 110,
   "metadata": {
    "collapsed": false
   },
   "outputs": [
    {
     "name": "stdout",
     "output_type": "stream",
     "text": [
      "Populating the interactive namespace from numpy and matplotlib\n"
     ]
    },
    {
     "data": {
      "image/png": "[encoded data removed]",
      "text/plain": [
       "<matplotlib.figure.Figure at 0x108c6ea50>"
      ]
     },
     "metadata": {},
     "output_type": "display_data"
    }
   ],
   "source": [
    "#I only completed the data vizualizations by calling the data in the data frame.\n",
    "import matplotlib.pyplot as plt\n",
    "%pylab inline\n",
    "\n",
    "plt.hist(df['Rate'])\n",
    "plt.title(\"Distribution of the Rate\")\n",
    "plt.xlabel(\"Participation Rate\")\n",
    "plt.ylabel(\"Number of States\")\n",
    "plt.show()"
   ]
  },
  {
   "cell_type": "markdown",
   "metadata": {},
   "source": [
    "##### 15. Plot the Math distribution"
   ]
  },
  {
   "cell_type": "code",
   "execution_count": 111,
   "metadata": {
    "collapsed": false
   },
   "outputs": [
    {
     "name": "stdout",
     "output_type": "stream",
     "text": [
      "Populating the interactive namespace from numpy and matplotlib\n"
     ]
    },
    {
     "data": {
      "image/png": "[encoded data removed]",
      "text/plain": [
       "<matplotlib.figure.Figure at 0x1083a2710>"
      ]
     },
     "metadata": {},
     "output_type": "display_data"
    }
   ],
   "source": [
    "import matplotlib.pyplot as plt\n",
    "%pylab inline\n",
    "\n",
    "plt.hist(df['Math'])\n",
    "plt.title(\"Distribution of Average Math Scores\")\n",
    "plt.xlabel(\"Score\")\n",
    "plt.ylabel(\"Number of States\")\n",
    "plt.show()"
   ]
  },
  {
   "cell_type": "markdown",
   "metadata": {},
   "source": [
    "##### 16. Plot the Verbal distribution"
   ]
  },
  {
   "cell_type": "code",
   "execution_count": 112,
   "metadata": {
    "collapsed": false
   },
   "outputs": [
    {
     "name": "stdout",
     "output_type": "stream",
     "text": [
      "Populating the interactive namespace from numpy and matplotlib\n"
     ]
    },
    {
     "data": {
      "image/png": "[encoded data removed]",
      "text/plain": [
       "<matplotlib.figure.Figure at 0x108f93290>"
      ]
     },
     "metadata": {},
     "output_type": "display_data"
    }
   ],
   "source": [
    "import matplotlib.pyplot as plt\n",
    "%pylab inline\n",
    "\n",
    "plt.hist(df['Verbal'])\n",
    "plt.title(\"Distribution of Average Verbal Scores\")\n",
    "plt.xlabel(\"Score\")\n",
    "plt.ylabel(\"Number of States\")\n",
    "plt.show()"
   ]
  },
  {
   "cell_type": "markdown",
   "metadata": {},
   "source": [
    "##### 17. What is the typical assumption for data distribution?"
   ]
  },
  {
   "cell_type": "markdown",
   "metadata": {
    "collapsed": false
   },
   "source": [
    "Unimodal data is considered noramlly distributed when it follows a bell curve."
   ]
  },
  {
   "cell_type": "markdown",
   "metadata": {},
   "source": [
    "##### 18. Does that distribution hold true for our data?"
   ]
  },
  {
   "cell_type": "markdown",
   "metadata": {
    "collapsed": false
   },
   "source": [
    "No."
   ]
  },
  {
   "cell_type": "markdown",
   "metadata": {},
   "source": [
    "##### 19. Plot some scatterplots. **BONUS**: Use a PyPlot `figure` to present multiple plots at once."
   ]
  },
  {
   "cell_type": "code",
   "execution_count": 113,
   "metadata": {
    "collapsed": false
   },
   "outputs": [
    {
     "data": {
      "image/png": "[encoded data removed]",
      "text/plain": [
       "<matplotlib.figure.Figure at 0x1090b3f50>"
      ]
     },
     "metadata": {},
     "output_type": "display_data"
    },
    {
     "data": {
      "image/png": "[encoded data removed]",
      "text/plain": [
       "<matplotlib.figure.Figure at 0x108d8e290>"
      ]
     },
     "metadata": {},
     "output_type": "display_data"
    },
    {
     "data": {
      "image/png": "[encoded data removed]",
      "text/plain": [
       "<matplotlib.figure.Figure at 0x109117e90>"
      ]
     },
     "metadata": {},
     "output_type": "display_data"
    },
    {
     "data": {
      "image/png": "[encoded data removed]",
      "text/plain": [
       "<matplotlib.figure.Figure at 0x1092f3c10>"
      ]
     },
     "metadata": {},
     "output_type": "display_data"
    }
   ],
   "source": [
    "#some scatterplots\n",
    "\n",
    "#math vs verbal\n",
    "plt.scatter(df['Math'], df['Verbal'])\n",
    "plt.xlabel('Math')\n",
    "plt.ylabel('Verbal')\n",
    "plt.title('Math vs Verbal Average Scores')\n",
    "\n",
    "plt.show()\n",
    "\n",
    "#verbal vs math\n",
    "plt.scatter(df['Verbal'], df['Math'])\n",
    "plt.xlabel('Verbal')\n",
    "plt.ylabel('Math')\n",
    "plt.title('Verbal vs Math Average Scores')\n",
    "\n",
    "plt.show()\n",
    "\n",
    "#verbal average score based on rate\n",
    "plt.scatter(df['Rate'], df['Verbal'])\n",
    "plt.xlabel('Rate')\n",
    "plt.ylabel('Verbal')\n",
    "plt.title('Verbal Average Scores vs Participation Rate')\n",
    "\n",
    "plt.show()\n",
    "\n",
    "#math average score based on rate\n",
    "plt.scatter(df['Rate'], df['Math'])\n",
    "plt.xlabel('Rate')\n",
    "plt.ylabel('Math')\n",
    "plt.title('Math Average Scores vs Participation Rate')\n",
    "\n",
    "plt.show()"
   ]
  },
  {
   "cell_type": "code",
   "execution_count": 114,
   "metadata": {
    "collapsed": false
   },
   "outputs": [
    {
     "data": {
      "image/png": "[encoded data removed]",
      "text/plain": [
       "<matplotlib.figure.Figure at 0x1093316d0>"
      ]
     },
     "metadata": {},
     "output_type": "display_data"
    }
   ],
   "source": [
    "#the same plots as above as one figure with their axes set the same for the similar plots.\n",
    "\n",
    "fig = plt.figure(figsize=(25, 25))\n",
    "\n",
    "#math vs verbal\n",
    "ax1 = fig.add_subplot(221)\n",
    "ax1.scatter(df['Math'], df['Verbal'])\n",
    "ax1.set_title('Math vs Verbal Average Scores')\n",
    "ax1.set_xlabel('Math')\n",
    "ax1.set_ylabel('Verbal')\n",
    "ax1.axes.set_xlim([400,650])\n",
    "ax1.axes.set_ylim([400,650])\n",
    "\n",
    "#verbal vs math\n",
    "ax2 = fig.add_subplot(222)\n",
    "ax2.scatter(df['Verbal'], df['Math'])\n",
    "ax2.set_title('Verbal vs Math Average Scores')\n",
    "ax2.set_xlabel('Verbal')\n",
    "ax2.set_ylabel('Math')\n",
    "ax2.axes.set_xlim([400,650])\n",
    "ax2.axes.set_ylim([400,650])\n",
    "\n",
    "#math average score based on rate\n",
    "ax3 = fig.add_subplot(223)\n",
    "ax3.scatter(df['Rate'], df['Math'])\n",
    "ax3.set_title('Math Average Scores vs Participation Rate')\n",
    "ax3.set_xlabel('Rate')\n",
    "ax3.set_ylabel('Math')\n",
    "ax3.axes.set_ylim([400,650])\n",
    "\n",
    "#verbal average score based on rate\n",
    "ax4 = fig.add_subplot(224)\n",
    "ax4.scatter(df['Rate'], df['Verbal'])\n",
    "ax4.set_title('Verbal Average Scores vs Participation Rate')\n",
    "ax4.set_xlabel('Rate')\n",
    "ax4.set_ylabel('Verbal')\n",
    "ax4.axes.set_ylim([400,650])\n",
    "\n",
    "\n",
    "plt.show()"
   ]
  },
  {
   "cell_type": "markdown",
   "metadata": {},
   "source": [
    "##### 20. Are there any interesting relationships to note?"
   ]
  },
  {
   "cell_type": "markdown",
   "metadata": {
    "collapsed": false
   },
   "source": [
    "There are higher average scores in states with lower participation rates.\n",
    "The average scores appear to increase at similar rates."
   ]
  },
  {
   "cell_type": "markdown",
   "metadata": {},
   "source": [
    "##### 21. Create box plots for each variable. "
   ]
  },
  {
   "cell_type": "code",
   "execution_count": 115,
   "metadata": {
    "collapsed": false
   },
   "outputs": [
    {
     "data": {
      "image/png": "[encoded data removed]",
      "text/plain": [
       "<matplotlib.figure.Figure at 0x108fbb5d0>"
      ]
     },
     "metadata": {},
     "output_type": "display_data"
    }
   ],
   "source": [
    "fig, axes = plt.subplots(nrows=3, figsize=(15, 15))\n",
    "axes[0].boxplot(df['Rate'], vert=False)\n",
    "axes[0].set_title('Participation Rate')\n",
    "\n",
    "axes[1].boxplot(df['Math'], vert=False)\n",
    "axes[1].set_title('Average Math Scores')\n",
    "\n",
    "axes[2].boxplot(df['Verbal'], vert=False)\n",
    "axes[2].set_title('Average Verbal Scores')\n",
    "\n",
    "fig.subplots_adjust(hspace=0.4)\n",
    "plt.show()"
   ]
  },
  {
   "cell_type": "markdown",
   "metadata": {},
   "source": [
    "##### BONUS: Using Tableau, create a heat map for each variable using a map of the US. "
   ]
  },
  {
   "cell_type": "markdown",
   "metadata": {
    "collapsed": true
   },
   "source": [
    "<img src=\"tableau.png\">"
   ]
  },
  {
   "cell_type": "code",
   "execution_count": null,
   "metadata": {
    "collapsed": true
   },
   "outputs": [],
   "source": []
  }
 ],
 "metadata": {
  "kernelspec": {
   "display_name": "Python 2",
   "language": "python",
   "name": "python2"
  },
  "language_info": {
   "codemirror_mode": {
    "name": "ipython",
    "version": 2
   },
   "file_extension": ".py",
   "mimetype": "text/x-python",
   "name": "python",
   "nbconvert_exporter": "python",
   "pygments_lexer": "ipython2",
   "version": "2.7.11"
  }
 },
 "nbformat": 4,
 "nbformat_minor": 0
}
